{
 "cells": [
  {
   "cell_type": "code",
   "execution_count": 1,
   "id": "2ea22afd-52c3-4cd2-aee6-0f962fd271b7",
   "metadata": {},
   "outputs": [
    {
     "name": "stdout",
     "output_type": "stream",
     "text": [
      "Requirement already satisfied: speechrecognition in c:\\users\\amaya\\anaconda3\\lib\\site-packages (3.10.4)\n",
      "Requirement already satisfied: pyaudio in c:\\users\\amaya\\anaconda3\\lib\\site-packages (0.2.14)\n",
      "Note: you may need to restart the kernel to use updated packages.\n"
     ]
    },
    {
     "name": "stderr",
     "output_type": "stream",
     "text": [
      "ERROR: Could not find a version that satisfies the requirement tkinter (from versions: none)\n",
      "ERROR: No matching distribution found for tkinter\n"
     ]
    }
   ],
   "source": [
    "pip install speechrecognition pyaudio tkinter\n"
   ]
  },
  {
   "cell_type": "code",
   "execution_count": 3,
   "id": "2908acd1-1556-425f-9919-1c2f6b8304a7",
   "metadata": {},
   "outputs": [],
   "source": [
    "import speech_recognition as sr\n",
    "import pyaudio\n",
    "import tkinter as tk\n",
    "from tkinter import scrolledtext, messagebox\n",
    "\n",
    "class SpeechToTextApp:\n",
    "    def __init__(self, root):\n",
    "        self.root = root\n",
    "        self.root.title(\"Speech to Text Recognition\")\n",
    "        \n",
    "        self.text_area = scrolledtext.ScrolledText(root, wrap=tk.WORD, width=50, height=15, font=(\"Times New Roman\", 15))\n",
    "        self.text_area.grid(column=0, row=0, pady=10, padx=10, columnspan=2)\n",
    "        \n",
    "        self.start_button = tk.Button(root, text=\"Start Recording\", command=self.start_recording)\n",
    "        self.start_button.grid(column=0, row=1, padx=10, pady=10, sticky=\"ew\")\n",
    "        \n",
    "        self.stop_button = tk.Button(root, text=\"Stop Recording\", command=self.stop_recording, state=tk.DISABLED)\n",
    "        self.stop_button.grid(column=1, row=1, padx=10, pady=10, sticky=\"ew\")\n",
    "        \n",
    "        self.recognizer = sr.Recognizer()\n",
    "        self.recording = False\n",
    "\n",
    "    def start_recording(self):\n",
    "        self.recording = True\n",
    "        self.start_button.config(state=tk.DISABLED)\n",
    "        self.stop_button.config(state=tk.NORMAL)\n",
    "        self.text_area.insert(tk.END, \"\\nListening...\\n\")\n",
    "        self.root.update()\n",
    "        self.listen()\n",
    "\n",
    "    def stop_recording(self):\n",
    "        self.recording = False\n",
    "        self.start_button.config(state=tk.NORMAL)\n",
    "        self.stop_button.config(state=tk.DISABLED)\n",
    "\n",
    "    def listen(self):\n",
    "        with sr.Microphone() as source:\n",
    "            self.recognizer.adjust_for_ambient_noise(source, duration=0.9)\n",
    "            while self.recording:\n",
    "                try:\n",
    "                    audio = self.recognizer.listen(source, timeout=5)\n",
    "                    text = self.recognizer.recognize_google(audio)\n",
    "                    self.text_area.insert(tk.END, f\"You said: {text}\\n\")\n",
    "                    self.root.update()\n",
    "                    if text.lower() == \"quit\":\n",
    "                        self.stop_recording()\n",
    "                        messagebox.showinfo(\"Speech to Text\", \"You said 'quit'. Stopping the recording.\")\n",
    "                        break\n",
    "                except sr.WaitTimeoutError:\n",
    "                    self.text_area.insert(tk.END, \"Listening timed out. Please try again.\\n\")\n",
    "                    self.root.update()\n",
    "                except sr.UnknownValueError:\n",
    "                    self.text_area.insert(tk.END, \"Sorry, I did not get that. Please try again.\\n\")\n",
    "                    self.root.update()\n",
    "                except Exception as e:\n",
    "                    self.text_area.insert(tk.END, f\"Error: {str(e)}\\n\")\n",
    "                    self.root.update()\n",
    "\n",
    "if __name__ == \"__main__\":\n",
    "    root = tk.Tk()\n",
    "    app = SpeechToTextApp(root)\n",
    "    root.mainloop()\n"
   ]
  },
  {
   "cell_type": "code",
   "execution_count": null,
   "id": "af856229-0afa-4246-a13d-c2092cdc0081",
   "metadata": {},
   "outputs": [],
   "source": []
  },
  {
   "cell_type": "code",
   "execution_count": null,
   "id": "fb91ad97-ff5f-42cb-ba04-33bd185d7a77",
   "metadata": {},
   "outputs": [],
   "source": []
  }
 ],
 "metadata": {
  "kernelspec": {
   "display_name": "Python 3 (ipykernel)",
   "language": "python",
   "name": "python3"
  },
  "language_info": {
   "codemirror_mode": {
    "name": "ipython",
    "version": 3
   },
   "file_extension": ".py",
   "mimetype": "text/x-python",
   "name": "python",
   "nbconvert_exporter": "python",
   "pygments_lexer": "ipython3",
   "version": "3.11.7"
  }
 },
 "nbformat": 4,
 "nbformat_minor": 5
}
